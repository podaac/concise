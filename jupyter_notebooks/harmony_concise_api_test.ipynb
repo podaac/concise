{
 "cells": [
  {
   "cell_type": "markdown",
   "id": "910b7006",
   "metadata": {},
   "source": [
    "# Harmony EOSS Concise API Tutorial"
   ]
  },
  {
   "cell_type": "markdown",
   "id": "3035e026",
   "metadata": {},
   "source": [
    "\n",
    "## What is Concise?\n",
    "\n",
    "Concise is a Harmony service developed by PODAAC that allows users to concatenate multiple L2 granules together into a single granule. This concatenation is done by adding a new subset_index dimension to the resulting granule.\n",
    "\n",
    "\n",
    "## Before you start\n",
    "\n",
    "\n",
    "Before you beginning this tutorial, make sure you have an account in the Earthdata Login UAT or Production environment, which will be used for this notebook by visiting https://uat.urs.earthdata.nasa.gov. These accounts, as all Earthdata Login accounts, are free to create and only take a moment to set up.\n",
    "\n",
    "Please setup the following environment variable for respective environment, setup in .bashrc file.\n",
    "\n",
    "OPS_USERNAME\n",
    "OPS_PASSWORD\n",
    "UAT_USERNAME\n",
    "UAT_PASSWORD\n",
    "\n",
    "Set up libraries needed to run demo"
   ]
  },
  {
   "cell_type": "code",
   "execution_count": null,
   "id": "3c95100d",
   "metadata": {},
   "outputs": [],
   "source": [
    "import os\n",
    "from harmony import BBox, Client, Collection, Request, Environment\n",
    "import xarray as xr\n",
    "import netCDF4 as nc\n",
    "import matplotlib.pyplot as plt"
   ]
  },
  {
   "cell_type": "markdown",
   "id": "caa60e99",
   "metadata": {},
   "source": [
    "Set up collection to run concise and how many granules to concatenate"
   ]
  },
  {
   "cell_type": "code",
   "execution_count": null,
   "id": "0c9b70ea",
   "metadata": {
    "tags": [
     "parameters"
    ]
   },
   "outputs": [],
   "source": [
    "collection_id = 'C1940473819-POCLOUD'\n",
    "max_results = 2\n",
    "venue = \"OPS\""
   ]
  },
  {
   "cell_type": "markdown",
   "id": "86352d1e",
   "metadata": {},
   "source": [
    "Retrieve credentials username and password for earthdata"
   ]
  },
  {
   "cell_type": "code",
   "execution_count": null,
   "id": "5ccd035f",
   "metadata": {},
   "outputs": [],
   "source": [
    "if venue == \"UAT\":\n",
    "    username = os.environ.get(\"UAT_USERNAME\")\n",
    "    password = os.environ.get(\"UAT_PASSWORD\")\n",
    "elif venue == \"OPS\":\n",
    "    username = os.environ.get('OPS_USERNAME')\n",
    "    password = os.environ.get('OPS_PASSWORD')"
   ]
  },
  {
   "cell_type": "markdown",
   "id": "79b56b55",
   "metadata": {},
   "source": [
    "Setup harmony client to make our harmony request with our username and password. \n",
    "\n",
    "Create our request with the collection we want to concatenate, set concatenate to true, how many granules we want to concatenate, set skip preview to true so job doesn't pause, and the format output we want.\n",
    "\n",
    "Check to make sure our harmony request is valid."
   ]
  },
  {
   "cell_type": "code",
   "execution_count": null,
   "id": "b11675ac",
   "metadata": {},
   "outputs": [],
   "source": [
    "if venue == \"UAT\":\n",
    "    harmony_client = Client(auth=(username, password), env=Environment.UAT)\n",
    "elif venue == \"OPS\":\n",
    "    harmony_client = Client(auth=(username, password), env=Environment.PROD)\n",
    "\n",
    "collection = Collection(id=collection_id)\n",
    "\n",
    "request = Request(\n",
    "    collection = collection,\n",
    "    concatenate = True,\n",
    "    max_results = max_results,\n",
    "    skip_preview = True,\n",
    "    format=\"application/x-netcdf4\",\n",
    ")\n",
    "\n",
    "request.is_valid()"
   ]
  },
  {
   "cell_type": "markdown",
   "id": "b4e5544d",
   "metadata": {},
   "source": [
    "Now that we have a valid request we simply need to call the submit function using the client we created earlier and pass in the request as a parameter.\n",
    "\n",
    "Tip: if you want to see the request before submitting it, use the request_as_curl function on the client to get an equivalent curl command for the request that will be submitted."
   ]
  },
  {
   "cell_type": "code",
   "execution_count": null,
   "id": "36ce8016",
   "metadata": {},
   "outputs": [],
   "source": [
    "print(harmony_client.request_as_curl(request))\n",
    "\n",
    "job1_id = harmony_client.submit(request)"
   ]
  },
  {
   "cell_type": "markdown",
   "id": "9d095bf3",
   "metadata": {},
   "source": [
    "After submitting the request it is possible to retrieve the current processing status by using the job ID returned from the submission.\n",
    "\n",
    "If the request is still running, we can wait until the Harmony request has finished processing. This cell will wait until the request has finised."
   ]
  },
  {
   "cell_type": "code",
   "execution_count": null,
   "id": "0d13a446",
   "metadata": {},
   "outputs": [],
   "source": [
    "print(f'\\n{job1_id}')\n",
    "\n",
    "print(harmony_client.status(job1_id))\n",
    "\n",
    "print('\\nWaiting for the job to finish')\n",
    "results = harmony_client.result_json(job1_id, show_progress=True)"
   ]
  },
  {
   "cell_type": "markdown",
   "id": "d47ecde0",
   "metadata": {},
   "source": [
    "After the harmony job is finished we download the resulting concatenated granule file."
   ]
  },
  {
   "cell_type": "code",
   "execution_count": null,
   "id": "168e7b11",
   "metadata": {},
   "outputs": [],
   "source": [
    "print('\\nDownloading results:')\n",
    "filename = None\n",
    "futures = harmony_client.download_all(job1_id, overwrite=True)\n",
    "for f in futures:\n",
    "    print(f)\n",
    "    print(f.result())  # f.result() is a filename, in this case\n",
    "    filename = f.result()\n",
    "print('\\nDone downloading.')"
   ]
  },
  {
   "cell_type": "markdown",
   "id": "c6f246ed",
   "metadata": {},
   "source": [
    "With the output file downloaded, now we can open concatenated granule using xarray to inspect some of the metadata. \n",
    "\n",
    "Note:\n",
    "In some of the collections the time variable has a time dimension and when we concatenate files we add a subset_index into the time dimension which causes the time variable have two dimension. Xarray doesn't allow the time variable have two dimensions so when using xarray to open concatenated files the time variable might need to be dropped. The file can be open with netcdf library"
   ]
  },
  {
   "cell_type": "code",
   "execution_count": null,
   "id": "04db3295",
   "metadata": {
    "scrolled": true
   },
   "outputs": [],
   "source": [
    "#some collections time variabe has a time dimension which can cause an exception when we concatenate and makes time two dimension\n",
    "dt = nc.Dataset(filename,'r')\n",
    "group = list(dt.groups)\n",
    "dt.close()\n",
    "\n",
    "if len(group) == 0:\n",
    "    group = None\n",
    "else:\n",
    "    group = group[0]\n",
    "    \n",
    "drop_variables = [\n",
    "    'time',\n",
    "    'sample',\n",
    "    'meas_ind',\n",
    "    'wvf_ind',\n",
    "    'ddm'\n",
    "]\n",
    "    \n",
    "try:\n",
    "    ds = xr.open_dataset(filename, group=group, decode_times=False)\n",
    "except xr.core.variable.MissingDimensionsError:\n",
    "    ds = xr.open_dataset(filename, group=group, decode_times=False, drop_variables=drop_variables)\n",
    "\n",
    "print(list(ds.variables))\n",
    "    \n",
    "assert len(ds.coords['subset_index']) == max_results"
   ]
  },
  {
   "cell_type": "markdown",
   "id": "e74cc045",
   "metadata": {},
   "source": [
    "After opening the file we can use matplotlib to create a plot for each subindex where each subindex represents the data for the granule file. We will plot sea_surface_temperature for each granule using subset_index dimension."
   ]
  },
  {
   "cell_type": "code",
   "execution_count": null,
   "id": "a733274d",
   "metadata": {},
   "outputs": [],
   "source": [
    "variable = None\n",
    "variables = list(ds.variables)\n",
    "\n",
    "for v in variables:\n",
    "    if v not in ['subset_files', 'lat', 'lon', 'latitude', 'longitude', 'beam_clat', 'beam_clon']:\n",
    "        variable = v\n",
    "        break;\n",
    "\n",
    "if \"lon\" in variables:\n",
    "    x = \"lon\"\n",
    "elif \"longitude\" in variables:\n",
    "    x = \"longitude\"\n",
    "elif \"beam_clon\" in variables:\n",
    "    x = \"beam_clon\"\n",
    "elif \"sp_lon\" in variables:\n",
    "    x = \"sp_lon\"\n",
    "    \n",
    "if \"lat\" in variables:\n",
    "    y = \"lon\"\n",
    "elif \"latitude\" in variables:\n",
    "    y = \"longitude\"\n",
    "elif \"beam_clat\" in variables:\n",
    "    y = \"beam_clat\"\n",
    "elif \"sp_lat\" in variables:\n",
    "    y = \"sp_lat\"\n",
    "    \n",
    "for index in range(0, max_results):\n",
    "        \n",
    "    ds.isel(subset_index=index).plot.scatter(\n",
    "        y=y,\n",
    "        x=x,\n",
    "        hue=variable,\n",
    "        s=1,\n",
    "        levels=9,\n",
    "        cmap=\"jet\",\n",
    "        aspect=2.5,\n",
    "        size=9\n",
    "    )\n",
    "    \n",
    "    plt.xlim(  0., 360.)\n",
    "    plt.ylim(-90.,  90.)\n",
    "    plt.show()"
   ]
  },
  {
   "cell_type": "markdown",
   "id": "696e3403",
   "metadata": {},
   "source": [
    "We can also plot out the entire granule file which would plot all the data of the concatenated files."
   ]
  },
  {
   "cell_type": "code",
   "execution_count": null,
   "id": "748cdb33",
   "metadata": {},
   "outputs": [],
   "source": [
    "ds.plot.scatter(\n",
    "    y=y,\n",
    "    x=y,\n",
    "    hue=variable,\n",
    "    s=1,\n",
    "    levels=9,\n",
    "    cmap=\"jet\",\n",
    "    aspect=2.5,\n",
    "    size=9\n",
    ")\n",
    "\n",
    "plt.xlim(  0., 360.)\n",
    "plt.ylim(-90.,  90.)\n",
    "plt.show()\n",
    "\n",
    "ds.close()"
   ]
  },
  {
   "cell_type": "code",
   "execution_count": null,
   "id": "cce2d481",
   "metadata": {},
   "outputs": [],
   "source": []
  }
 ],
 "metadata": {
  "celltoolbar": "Tags",
  "kernelspec": {
   "display_name": "Python 3 (ipykernel)",
   "language": "python",
   "name": "python3"
  },
  "language_info": {
   "codemirror_mode": {
    "name": "ipython",
    "version": 3
   },
   "file_extension": ".py",
   "mimetype": "text/x-python",
   "name": "python",
   "nbconvert_exporter": "python",
   "pygments_lexer": "ipython3",
   "version": "3.8.12"
  }
 },
 "nbformat": 4,
 "nbformat_minor": 5
}

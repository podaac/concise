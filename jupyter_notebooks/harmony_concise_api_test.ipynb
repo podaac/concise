{
 "cells": [
  {
   "cell_type": "markdown",
   "id": "910b7006",
   "metadata": {},
   "source": [
    "# Harmony EOSS Concise API Tutorial"
   ]
  },
  {
   "cell_type": "markdown",
   "id": "3035e026",
   "metadata": {},
   "source": [
    "\n",
    "## What is Concise?\n",
    "\n",
    "Concise is a Harmony service developed by PODAAC that allows users to concatenate multiple L2 granules together into a single granule. This concatenation is done by adding a new subset_index dimension to the resulting granule.\n",
    "\n",
    "\n",
    "## Before you start\n",
    "\n",
    "\n",
    "Before you beginning this tutorial, make sure you have an account in the Earthdata Login UAT or Production environment, which will be used for this notebook by visiting https://uat.urs.earthdata.nasa.gov. These accounts, as all Earthdata Login accounts, are free to create and only take a moment to set up.\n",
    "\n",
    "Please setup the following environment variable for respective environment, setup in .bashrc file.\n",
    "\n",
    "OPS_USERNAME\n",
    "OPS_PASSWORD\n",
    "UAT_USERNAME\n",
    "UAT_PASSWORD\n",
    "\n",
    "Set up libraries needed to run demo"
   ]
  },
  {
   "cell_type": "code",
   "execution_count": 38,
   "id": "3c95100d",
   "metadata": {},
   "outputs": [],
   "source": [
    "import os\n",
    "from harmony import BBox, Client, Collection, Request, Environment\n",
    "import xarray as xr\n",
    "import netCDF4 as nc\n",
    "import matplotlib.pyplot as plt"
   ]
  },
  {
   "cell_type": "markdown",
   "id": "caa60e99",
   "metadata": {},
   "source": [
    "Set up collection to run concise and how many granules to concatenate"
   ]
  },
  {
   "cell_type": "code",
   "execution_count": 39,
   "id": "0c9b70ea",
   "metadata": {
    "tags": [
     "parameters"
    ]
   },
   "outputs": [],
   "source": [
    "collection_id = 'C2205121485-POCLOUD'\n",
    "max_results = 2\n",
    "venue = \"OPS\""
   ]
  },
  {
   "cell_type": "markdown",
   "id": "86352d1e",
   "metadata": {},
   "source": [
    "Retrieve credentials username and password for earthdata"
   ]
  },
  {
   "cell_type": "code",
   "execution_count": 40,
   "id": "5ccd035f",
   "metadata": {},
   "outputs": [],
   "source": [
    "if venue == \"UAT\":\n",
    "    username = os.environ.get(\"UAT_USERNAME\")\n",
    "    password = os.environ.get(\"UAT_PASSWORD\")\n",
    "elif venue == \"OPS\":\n",
    "    username = os.environ.get('OPS_USERNAME')\n",
    "    password = os.environ.get('OPS_PASSWORD')"
   ]
  },
  {
   "cell_type": "markdown",
   "id": "79b56b55",
   "metadata": {},
   "source": [
    "Setup harmony client to make our harmony request with our username and password. \n",
    "\n",
    "Create our request with the collection we want to concatenate, set concatenate to true, how many granules we want to concatenate, set skip preview to true so job doesn't pause, and the format output we want.\n",
    "\n",
    "Check to make sure our harmony request is valid."
   ]
  },
  {
   "cell_type": "code",
   "execution_count": 41,
   "id": "b11675ac",
   "metadata": {},
   "outputs": [
    {
     "data": {
      "text/plain": [
       "True"
      ]
     },
     "execution_count": 41,
     "metadata": {},
     "output_type": "execute_result"
    }
   ],
   "source": [
    "if venue == \"UAT\":\n",
    "    harmony_client = Client(auth=(username, password), env=Environment.UAT)\n",
    "elif venue == \"OPS\":\n",
    "    harmony_client = Client(auth=(username, password), env=Environment.PROD)\n",
    "\n",
    "collection = Collection(id=collection_id)\n",
    "\n",
    "request = Request(\n",
    "    collection = collection,\n",
    "    concatenate = True,\n",
    "    max_results = max_results,\n",
    "    skip_preview = True,\n",
    "    format=\"application/x-netcdf4\",\n",
    ")\n",
    "\n",
    "request.is_valid()"
   ]
  },
  {
   "cell_type": "markdown",
   "id": "b4e5544d",
   "metadata": {},
   "source": [
    "Now that we have a valid request we simply need to call the submit function using the client we created earlier and pass in the request as a parameter.\n",
    "\n",
    "Tip: if you want to see the request before submitting it, use the request_as_curl function on the client to get an equivalent curl command for the request that will be submitted."
   ]
  },
  {
   "cell_type": "code",
   "execution_count": 42,
   "id": "36ce8016",
   "metadata": {},
   "outputs": [
    {
     "name": "stdout",
     "output_type": "stream",
     "text": [
      "curl -X GET -H 'Accept: */*' -H 'Accept-Encoding: gzip, deflate' -H 'Authorization: *****' -H 'Connection: keep-alive' -H 'Cookie: urs_user_already_logged=yes; state=s%3A1c51c3d53a38e6af99f0366288cd18bf.p404RcPg%2BvidV0pdWb9gqeHVcz4Hld5s5Q5PexRzbXs; token=*****; _urs-gui_session=a61daf78fa6987f16d1ffc770d775b69' -H 'User-Agent: CPython/3.8.12 harmony-py/0.4.2 Darwin/22.6.0 python-requests/2.27.1' 'https://harmony.earthdata.nasa.gov/C2205121485-POCLOUD/ogc-api-coverages/1.0.0/collections/all/coverage/rangeset?forceAsync=true&format=application%2Fx-netcdf4&maxResults=2&concatenate=true&skipPreview=true'\n"
     ]
    }
   ],
   "source": [
    "print(harmony_client.request_as_curl(request))\n",
    "\n",
    "job1_id = harmony_client.submit(request)"
   ]
  },
  {
   "cell_type": "markdown",
   "id": "9d095bf3",
   "metadata": {},
   "source": [
    "After submitting the request it is possible to retrieve the current processing status by using the job ID returned from the submission.\n",
    "\n",
    "If the request is still running, we can wait until the Harmony request has finished processing. This cell will wait until the request has finised."
   ]
  },
  {
   "cell_type": "code",
   "execution_count": 43,
   "id": "0d13a446",
   "metadata": {},
   "outputs": [
    {
     "name": "stdout",
     "output_type": "stream",
     "text": [
      "\n",
      "0790ef60-4c3b-4189-b9ac-d9dad2aafafe\n",
      "{'status': 'running', 'message': 'CMR query identified 1308 granules, but the request has been limited to process only the first 2 granules because you requested 2 maxResults.', 'progress': 0, 'created_at': datetime.datetime(2023, 8, 16, 17, 32, 22, 669000, tzinfo=tzutc()), 'updated_at': datetime.datetime(2023, 8, 16, 17, 32, 22, 669000, tzinfo=tzutc()), 'created_at_local': '2023-08-16T10:32:22-07:00', 'updated_at_local': '2023-08-16T10:32:22-07:00', 'data_expiration': datetime.datetime(2023, 9, 15, 17, 32, 22, 669000, tzinfo=tzutc()), 'data_expiration_local': '2023-09-15T10:32:22-07:00', 'request': 'https://harmony.earthdata.nasa.gov/C2205121485-POCLOUD/ogc-api-coverages/1.0.0/collections/all/coverage/rangeset?forceAsync=true&format=application%2Fx-netcdf4&maxResults=2&concatenate=true&skipPreview=true', 'num_input_granules': 2}\n",
      "\n",
      "Waiting for the job to finish\n"
     ]
    },
    {
     "name": "stderr",
     "output_type": "stream",
     "text": [
      " [ Processing: 100% ] |###################################################| [|]\n"
     ]
    }
   ],
   "source": [
    "print(f'\\n{job1_id}')\n",
    "\n",
    "print(harmony_client.status(job1_id))\n",
    "\n",
    "print('\\nWaiting for the job to finish')\n",
    "results = harmony_client.result_json(job1_id, show_progress=True)"
   ]
  },
  {
   "cell_type": "markdown",
   "id": "d47ecde0",
   "metadata": {},
   "source": [
    "After the harmony job is finished we download the resulting concatenated granule file."
   ]
  },
  {
   "cell_type": "code",
   "execution_count": 44,
   "id": "168e7b11",
   "metadata": {},
   "outputs": [
    {
     "name": "stdout",
     "output_type": "stream",
     "text": [
      "\n",
      "Downloading results:\n",
      "<Future at 0x12bf093d0 state=running>\n",
      "C2205121485-POCLOUD_merged.nc4\n",
      "\n",
      "Done downloading.\n"
     ]
    }
   ],
   "source": [
    "print('\\nDownloading results:')\n",
    "filename = None\n",
    "futures = harmony_client.download_all(job1_id, overwrite=True)\n",
    "for f in futures:\n",
    "    print(f)\n",
    "    print(f.result())  # f.result() is a filename, in this case\n",
    "    filename = f.result()\n",
    "print('\\nDone downloading.')"
   ]
  },
  {
   "cell_type": "markdown",
   "id": "c6f246ed",
   "metadata": {},
   "source": [
    "With the output file downloaded, now we can open concatenated granule using xarray to inspect some of the metadata. \n",
    "\n",
    "Note:\n",
    "In some of the collections the time variable has a time dimension and when we concatenate files we add a subset_index into the time dimension which causes the time variable have two dimension. Xarray doesn't allow the time variable have two dimensions so when using xarray to open concatenated files the time variable might need to be dropped. The file can be open with netcdf library"
   ]
  },
  {
   "cell_type": "code",
   "execution_count": 45,
   "id": "04db3295",
   "metadata": {
    "scrolled": true
   },
   "outputs": [],
   "source": [
    "#some collections time variabe has a time dimension which can cause an exception when we concatenate and makes time two dimension\n",
    "dt = nc.Dataset(filename,'r')\n",
    "groups = list(dt.groups)\n",
    "dt.close()\n",
    "    \n",
    "drop_variables = [\n",
    "    'time',\n",
    "    'sample',\n",
    "    'meas_ind',\n",
    "    'wvf_ind',\n",
    "    'ddm',\n",
    "    'averaged_l1'\n",
    "]\n",
    "if len(groups) == 0:\n",
    "    groups = [None]"
   ]
  },
  {
   "cell_type": "markdown",
   "id": "e74cc045",
   "metadata": {},
   "source": [
    "After opening the file we can use matplotlib to create a plot for each subindex where each subindex represents the data for the granule file. We will plot sea_surface_temperature for each granule using subset_index dimension."
   ]
  },
  {
   "cell_type": "code",
   "execution_count": 46,
   "id": "a733274d",
   "metadata": {
    "scrolled": true
   },
   "outputs": [
    {
     "name": "stdout",
     "output_type": "stream",
     "text": [
      "['subset_files', 'ddm_source', 'spacecraft_id', 'spacecraft_num', 'prn_code', 'sv_num', 'antenna', 'sample_time', 'lat', 'lon', 'sc_lat', 'sc_lon', 'sc_alt', 'wind_speed', 'fds_nbrcs_wind_speed', 'fds_les_wind_speed', 'wind_speed_uncertainty', 'azimuth_angle', 'sc_roll', 'commanded_sc_roll', 'mean_square_slope', 'mean_square_slope_uncertainty', 'incidence_angle', 'nbrcs_mean', 'les_mean', 'range_corr_gain', 'fresnel_coeff', 'merra2_wind_speed', 'num_ddms_utilized', 'sample_flags', 'fds_sample_flags', 'sum_neg_brcs_value_used_for_nbrcs_flags', 'ddm_obs_utilized_flag', 'ddm_num_averaged_l1', 'ddm_channel', 'ddm_les', 'ddm_nbrcs', 'ddm_sample_index', 'ddm_averaged_l1_utilized_flag']\n"
     ]
    },
    {
     "data": {
      "image/png": "[encoded data removed]",
      "text/plain": [
       "<Figure size 1620x648 with 2 Axes>"
      ]
     },
     "metadata": {
      "needs_background": "light"
     },
     "output_type": "display_data"
    },
    {
     "data": {
      "image/png": "[encoded data removed]",
      "text/plain": [
       "<Figure size 1620x648 with 2 Axes>"
      ]
     },
     "metadata": {
      "needs_background": "light"
     },
     "output_type": "display_data"
    }
   ],
   "source": [
    "for group in groups:\n",
    "\n",
    "    try:\n",
    "        ds = xr.open_dataset(filename, group=group, decode_times=False)\n",
    "    except xr.core.variable.MissingDimensionsError:\n",
    "        ds = xr.open_dataset(filename, group=group, decode_times=False, drop_variables=drop_variables)\n",
    "\n",
    "    assert len(ds.coords['subset_index']) == max_results\n",
    "\n",
    "    variable = None\n",
    "    variables = list(ds.variables)\n",
    "    print(variables)\n",
    "    \n",
    "    for v in variables:\n",
    "        if v not in ['subset_files', 'lat', 'lon', 'latitude', 'longitude', 'beam_clat', 'beam_clon']:\n",
    "            variable = v\n",
    "            break;\n",
    "\n",
    "    if \"lon\" in variables:\n",
    "        x = \"lon\"\n",
    "    elif \"longitude\" in variables:\n",
    "        x = \"longitude\"\n",
    "    elif \"beam_clon\" in variables:\n",
    "        x = \"beam_clon\"\n",
    "    elif \"sp_lon\" in variables:\n",
    "        x = \"sp_lon\"\n",
    "    elif \"cellon\" in variables:\n",
    "        x = \"cellon\"\n",
    "    else:\n",
    "        x = None\n",
    "\n",
    "    if \"lat\" in variables:\n",
    "        y = \"lon\"\n",
    "    elif \"latitude\" in variables:\n",
    "        y = \"longitude\"\n",
    "    elif \"beam_clat\" in variables:\n",
    "        y = \"beam_clat\"\n",
    "    elif \"sp_lat\" in variables:\n",
    "        y = \"sp_lat\"\n",
    "    elif \"cellat\" in variables:\n",
    "        y = \"cellat\"\n",
    "    else:\n",
    "        y = None\n",
    "        \n",
    "    if y is not None and x is not None:\n",
    "        break\n",
    "        \n",
    "    ds.close()\n",
    "\n",
    "if x is None or y is None:\n",
    "    raise Exception(\"Lon and Lat variables are not found\")\n",
    "    \n",
    "for index in range(0, max_results):\n",
    "        \n",
    "    ds.isel(subset_index=index).plot.scatter(\n",
    "        y=y,\n",
    "        x=x,\n",
    "        hue=variable,\n",
    "        s=1,\n",
    "        levels=9,\n",
    "        cmap=\"jet\",\n",
    "        aspect=2.5,\n",
    "        size=9\n",
    "    )\n",
    "    \n",
    "    plt.xlim(  0., 360.)\n",
    "    plt.ylim(-90.,  90.)\n",
    "    plt.show()"
   ]
  },
  {
   "cell_type": "markdown",
   "id": "696e3403",
   "metadata": {},
   "source": [
    "We can also plot out the entire granule file which would plot all the data of the concatenated files."
   ]
  },
  {
   "cell_type": "code",
   "execution_count": 47,
   "id": "748cdb33",
   "metadata": {},
   "outputs": [
    {
     "data": {
      "image/png": "[encoded data removed]",
      "text/plain": [
       "<Figure size 1620x648 with 2 Axes>"
      ]
     },
     "metadata": {
      "needs_background": "light"
     },
     "output_type": "display_data"
    }
   ],
   "source": [
    "ds.plot.scatter(\n",
    "    y=y,\n",
    "    x=y,\n",
    "    hue=variable,\n",
    "    s=1,\n",
    "    levels=9,\n",
    "    cmap=\"jet\",\n",
    "    aspect=2.5,\n",
    "    size=9\n",
    ")\n",
    "\n",
    "plt.xlim(  0., 360.)\n",
    "plt.ylim(-90.,  90.)\n",
    "plt.show()\n",
    "\n",
    "ds.close()"
   ]
  },
  {
   "cell_type": "code",
   "execution_count": null,
   "id": "cce2d481",
   "metadata": {},
   "outputs": [],
   "source": []
  }
 ],
 "metadata": {
  "celltoolbar": "Tags",
  "kernelspec": {
   "display_name": "Python 3 (ipykernel)",
   "language": "python",
   "name": "python3"
  },
  "language_info": {
   "codemirror_mode": {
    "name": "ipython",
    "version": 3
   },
   "file_extension": ".py",
   "mimetype": "text/x-python",
   "name": "python",
   "nbconvert_exporter": "python",
   "pygments_lexer": "ipython3",
   "version": "3.8.12"
  }
 },
 "nbformat": 4,
 "nbformat_minor": 5
}

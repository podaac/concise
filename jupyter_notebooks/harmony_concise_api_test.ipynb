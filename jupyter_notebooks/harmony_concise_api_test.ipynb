{
 "cells": [
  {
   "cell_type": "markdown",
   "id": "910b7006",
   "metadata": {},
   "source": [
    "# Harmony EOSS Concise API Tutorial"
   ]
  },
  {
   "cell_type": "markdown",
   "id": "3035e026",
   "metadata": {},
   "source": [
    "\n",
    "## What is Concise?\n",
    "\n",
    "Concise is a Harmony service developed by PODAAC that allows users to concatenate multiple L2 granules together into a single granule. This concatenation is done by adding a new subset_index dimension to the resulting granule.\n",
    "\n",
    "\n",
    "## Before you start\n",
    "\n",
    "\n",
    "Before you beginning this tutorial, make sure you have an account in the Earthdata Login UAT or Production environment, which will be used for this notebook by visiting https://uat.urs.earthdata.nasa.gov. These accounts, as all Earthdata Login accounts, are free to create and only take a moment to set up.\n",
    "\n",
    "Please setup the following environment variable for respective environment, setup in .bashrc file.\n",
    "\n",
    "OPS_USERNAME\n",
    "OPS_PASSWORD\n",
    "UAT_USERNAME\n",
    "UAT_PASSWORD\n",
    "\n",
    "Set up libraries needed to run demo"
   ]
  },
  {
   "cell_type": "code",
   "execution_count": 6,
   "id": "3c95100d",
   "metadata": {},
   "outputs": [],
   "source": [
    "import os\n",
    "from harmony import BBox, Client, Collection, Request, Environment\n",
    "import xarray as xr\n",
    "import netCDF4 as nc\n",
    "import matplotlib.pyplot as plt"
   ]
  },
  {
   "cell_type": "markdown",
   "id": "caa60e99",
   "metadata": {},
   "source": [
    "Set up collection to run concise and how many granules to concatenate"
   ]
  },
  {
   "cell_type": "code",
   "execution_count": 7,
   "id": "0c9b70ea",
   "metadata": {
    "tags": [
     "parameter"
    ]
   },
   "outputs": [],
   "source": [
    "collection_id = 'C1940473819-POCLOUD'\n",
    "max_results = 5\n",
    "venue = \"OPS\""
   ]
  },
  {
   "cell_type": "markdown",
   "id": "86352d1e",
   "metadata": {},
   "source": [
    "Retrieve credentials username and password for earthdata"
   ]
  },
  {
   "cell_type": "code",
   "execution_count": 8,
   "id": "5ccd035f",
   "metadata": {},
   "outputs": [],
   "source": [
    "if venue == \"UAT\":\n",
    "    username = os.environ.get(\"UAT_USERNAME\")\n",
    "    password = os.environ.get(\"UAT_PASSWORD\")\n",
    "elif venue == \"OPS\":\n",
    "    username = os.environ.get('OPS_USERNAME')\n",
    "    password = os.environ.get('OPS_PASSWORD')"
   ]
  },
  {
   "cell_type": "markdown",
   "id": "79b56b55",
   "metadata": {},
   "source": [
    "Setup harmony client to make our harmony request with our username and password. \n",
    "\n",
    "Create our request with the collection we want to concatenate, set concatenate to true, how many granules we want to concatenate, set skip preview to true so job doesn't pause, and the format output we want.\n",
    "\n",
    "Check to make sure our harmony request is valid."
   ]
  },
  {
   "cell_type": "code",
   "execution_count": 10,
   "id": "b11675ac",
   "metadata": {},
   "outputs": [
    {
     "ename": "MalformedCredentials",
     "evalue": "Authentication: `auth` argument requires tuple of (username, password).",
     "output_type": "error",
     "traceback": [
      "\u001b[0;31m---------------------------------------------------------------------------\u001b[0m",
      "\u001b[0;31mMalformedCredentials\u001b[0m                      Traceback (most recent call last)",
      "Input \u001b[0;32mIn [10]\u001b[0m, in \u001b[0;36m<module>\u001b[0;34m\u001b[0m\n\u001b[1;32m      2\u001b[0m     harmony_client \u001b[38;5;241m=\u001b[39m Client(auth\u001b[38;5;241m=\u001b[39m(username, password), env\u001b[38;5;241m=\u001b[39mEnvironment\u001b[38;5;241m.\u001b[39mUAT)\n\u001b[1;32m      3\u001b[0m \u001b[38;5;28;01mif\u001b[39;00m venue \u001b[38;5;241m==\u001b[39m \u001b[38;5;124m\"\u001b[39m\u001b[38;5;124mOPS\u001b[39m\u001b[38;5;124m\"\u001b[39m:\n\u001b[0;32m----> 4\u001b[0m     harmony_client \u001b[38;5;241m=\u001b[39m \u001b[43mClient\u001b[49m\u001b[43m(\u001b[49m\u001b[43mauth\u001b[49m\u001b[38;5;241;43m=\u001b[39;49m\u001b[43m(\u001b[49m\u001b[43musername\u001b[49m\u001b[43m,\u001b[49m\u001b[43m \u001b[49m\u001b[43mpassword\u001b[49m\u001b[43m)\u001b[49m\u001b[43m,\u001b[49m\u001b[43m \u001b[49m\u001b[43menv\u001b[49m\u001b[38;5;241;43m=\u001b[39;49m\u001b[43mEnvironment\u001b[49m\u001b[38;5;241;43m.\u001b[39;49m\u001b[43mPROD\u001b[49m\u001b[43m)\u001b[49m\n\u001b[1;32m      6\u001b[0m collection \u001b[38;5;241m=\u001b[39m Collection(\u001b[38;5;28mid\u001b[39m\u001b[38;5;241m=\u001b[39mcollection_id)\n\u001b[1;32m      8\u001b[0m request \u001b[38;5;241m=\u001b[39m Request(\n\u001b[1;32m      9\u001b[0m     collection \u001b[38;5;241m=\u001b[39m collection,\n\u001b[1;32m     10\u001b[0m     concatenate \u001b[38;5;241m=\u001b[39m \u001b[38;5;28;01mTrue\u001b[39;00m,\n\u001b[0;32m   (...)\u001b[0m\n\u001b[1;32m     13\u001b[0m     \u001b[38;5;28mformat\u001b[39m\u001b[38;5;241m=\u001b[39m\u001b[38;5;124m\"\u001b[39m\u001b[38;5;124mapplication/x-netcdf4\u001b[39m\u001b[38;5;124m\"\u001b[39m,\n\u001b[1;32m     14\u001b[0m )\n",
      "File \u001b[0;32m~/.pyenv/versions/3.8.12/lib/python3.8/site-packages/harmony/harmony.py:390\u001b[0m, in \u001b[0;36mClient.__init__\u001b[0;34m(self, auth, should_validate_auth, env)\u001b[0m\n\u001b[1;32m    387\u001b[0m \u001b[38;5;28mself\u001b[39m\u001b[38;5;241m.\u001b[39mexecutor \u001b[38;5;241m=\u001b[39m ThreadPoolExecutor(max_workers\u001b[38;5;241m=\u001b[39mnum_workers)\n\u001b[1;32m    389\u001b[0m \u001b[38;5;28;01mif\u001b[39;00m should_validate_auth:\n\u001b[0;32m--> 390\u001b[0m     validate_auth(\u001b[38;5;28mself\u001b[39m\u001b[38;5;241m.\u001b[39mconfig, \u001b[38;5;28;43mself\u001b[39;49m\u001b[38;5;241;43m.\u001b[39;49m\u001b[43m_session\u001b[49m\u001b[43m(\u001b[49m\u001b[43m)\u001b[49m)\n",
      "File \u001b[0;32m~/.pyenv/versions/3.8.12/lib/python3.8/site-packages/harmony/harmony.py:395\u001b[0m, in \u001b[0;36mClient._session\u001b[0;34m(self)\u001b[0m\n\u001b[1;32m    393\u001b[0m \u001b[38;5;124;03m\"\"\"Creates (if needed) and returns the Client's requests Session.\"\"\"\u001b[39;00m\n\u001b[1;32m    394\u001b[0m \u001b[38;5;28;01mif\u001b[39;00m \u001b[38;5;28mself\u001b[39m\u001b[38;5;241m.\u001b[39msession \u001b[38;5;129;01mis\u001b[39;00m \u001b[38;5;28;01mNone\u001b[39;00m:\n\u001b[0;32m--> 395\u001b[0m     \u001b[38;5;28mself\u001b[39m\u001b[38;5;241m.\u001b[39msession \u001b[38;5;241m=\u001b[39m \u001b[43mcreate_session\u001b[49m\u001b[43m(\u001b[49m\u001b[38;5;28;43mself\u001b[39;49m\u001b[38;5;241;43m.\u001b[39;49m\u001b[43mconfig\u001b[49m\u001b[43m,\u001b[49m\u001b[43m \u001b[49m\u001b[38;5;28;43mself\u001b[39;49m\u001b[38;5;241;43m.\u001b[39;49m\u001b[43mauth\u001b[49m\u001b[43m)\u001b[49m\n\u001b[1;32m    396\u001b[0m \u001b[38;5;28;01mreturn\u001b[39;00m \u001b[38;5;28mself\u001b[39m\u001b[38;5;241m.\u001b[39msession\n",
      "File \u001b[0;32m~/.pyenv/versions/3.8.12/lib/python3.8/site-packages/harmony/auth.py:127\u001b[0m, in \u001b[0;36mcreate_session\u001b[0;34m(config, auth)\u001b[0m\n\u001b[1;32m    125\u001b[0m     session \u001b[38;5;241m=\u001b[39m SessionWithHeaderRedirection(auth\u001b[38;5;241m=\u001b[39mauth)\n\u001b[1;32m    126\u001b[0m \u001b[38;5;28;01melif\u001b[39;00m auth \u001b[38;5;129;01mis\u001b[39;00m \u001b[38;5;129;01mnot\u001b[39;00m \u001b[38;5;28;01mNone\u001b[39;00m:\n\u001b[0;32m--> 127\u001b[0m     \u001b[38;5;28;01mraise\u001b[39;00m MalformedCredentials(\u001b[38;5;124m'\u001b[39m\u001b[38;5;124mAuthentication: `auth` argument requires tuple of \u001b[39m\u001b[38;5;124m'\u001b[39m\n\u001b[1;32m    128\u001b[0m                                \u001b[38;5;124m'\u001b[39m\u001b[38;5;124m(username, password).\u001b[39m\u001b[38;5;124m'\u001b[39m)\n\u001b[1;32m    129\u001b[0m \u001b[38;5;28;01melif\u001b[39;00m edl_username \u001b[38;5;129;01mand\u001b[39;00m edl_password:\n\u001b[1;32m    130\u001b[0m     session \u001b[38;5;241m=\u001b[39m SessionWithHeaderRedirection(auth\u001b[38;5;241m=\u001b[39m(edl_username, edl_password))\n",
      "\u001b[0;31mMalformedCredentials\u001b[0m: Authentication: `auth` argument requires tuple of (username, password)."
     ]
    }
   ],
   "source": [
    "if venue == \"UAT\":\n",
    "    harmony_client = Client(auth=(username, password), env=Environment.UAT)\n",
    "if venue == \"OPS\":\n",
    "    harmony_client = Client(auth=(username, password), env=Environment.PROD)\n",
    "\n",
    "collection = Collection(id=collection_id)\n",
    "\n",
    "request = Request(\n",
    "    collection = collection,\n",
    "    concatenate = True,\n",
    "    max_results = max_results,\n",
    "    skip_preview = True,\n",
    "    format=\"application/x-netcdf4\",\n",
    ")\n",
    "\n",
    "request.is_valid()"
   ]
  },
  {
   "cell_type": "markdown",
   "id": "b4e5544d",
   "metadata": {},
   "source": [
    "Now that we have a valid request we simply need to call the submit function using the client we created earlier and pass in the request as a parameter.\n",
    "\n",
    "Tip: if you want to see the request before submitting it, use the request_as_curl function on the client to get an equivalent curl command for the request that will be submitted."
   ]
  },
  {
   "cell_type": "code",
   "execution_count": null,
   "id": "36ce8016",
   "metadata": {},
   "outputs": [],
   "source": [
    "print(harmony_client.request_as_curl(request))\n",
    "\n",
    "job1_id = harmony_client.submit(request)"
   ]
  },
  {
   "cell_type": "markdown",
   "id": "9d095bf3",
   "metadata": {},
   "source": [
    "After submitting the request it is possible to retrieve the current processing status by using the job ID returned from the submission.\n",
    "\n",
    "If the request is still running, we can wait until the Harmony request has finished processing. This cell will wait until the request has finised."
   ]
  },
  {
   "cell_type": "code",
   "execution_count": null,
   "id": "0d13a446",
   "metadata": {},
   "outputs": [],
   "source": [
    "print(f'\\n{job1_id}')\n",
    "\n",
    "print(harmony_client.status(job1_id))\n",
    "\n",
    "print('\\nWaiting for the job to finish')\n",
    "results = harmony_client.result_json(job1_id, show_progress=True)"
   ]
  },
  {
   "cell_type": "markdown",
   "id": "d47ecde0",
   "metadata": {},
   "source": [
    "After the harmony job is finished we download the resulting concatenated granule file."
   ]
  },
  {
   "cell_type": "code",
   "execution_count": null,
   "id": "168e7b11",
   "metadata": {},
   "outputs": [],
   "source": [
    "print('\\nDownloading results:')\n",
    "filename = None\n",
    "futures = harmony_client.download_all(job1_id, overwrite=True)\n",
    "for f in futures:\n",
    "    print(f)\n",
    "    print(f.result())  # f.result() is a filename, in this case\n",
    "    filename = f.result()\n",
    "print('\\nDone downloading.')"
   ]
  },
  {
   "cell_type": "markdown",
   "id": "c6f246ed",
   "metadata": {},
   "source": [
    "With the output file downloaded, now we can open concatenated granule using xarray to inspect some of the metadata. \n",
    "\n",
    "Note:\n",
    "In some of the collections the time variable has a time dimension and when we concatenate files we add a subset_index into the time dimension which causes the time variable have two dimension. Xarray doesn't allow the time variable have two dimensions so when using xarray to open concatenated files the time variable might need to be dropped. The file can be open with netcdf library"
   ]
  },
  {
   "cell_type": "code",
   "execution_count": null,
   "id": "04db3295",
   "metadata": {
    "scrolled": true
   },
   "outputs": [],
   "source": [
    "#some collections time variabe has a time dimension which can cause an exception when we concatenate and makes time two dimension\n",
    "try:\n",
    "    ds = xr.open_dataset(filename, decode_times=False)\n",
    "except xr.core.variable.MissingDimensionsError:\n",
    "    ds = xr.open_dataset(filename, decode_times=False, drop_variables=['time'])\n",
    "\n",
    "print(list(ds.variables))\n",
    "    \n",
    "assert len(ds.coords['subset_index']) == max_results"
   ]
  },
  {
   "cell_type": "markdown",
   "id": "e74cc045",
   "metadata": {},
   "source": [
    "After opening the file we can use matplotlib to create a plot for each subindex where each subindex represents the data for the granule file. We will plot sea_surface_temperature for each granule using subset_index dimension."
   ]
  },
  {
   "cell_type": "code",
   "execution_count": null,
   "id": "a733274d",
   "metadata": {},
   "outputs": [],
   "source": [
    "variable = None\n",
    "for v in list(ds.variables):\n",
    "    if v not in ['subset_files', 'lat', 'lon']:\n",
    "        variable = v\n",
    "        break;\n",
    "\n",
    "for index in range(0, max_results):\n",
    "        \n",
    "    ds.isel(subset_index=index).plot.scatter(\n",
    "        y=\"lat\",\n",
    "        x=\"lon\",\n",
    "        hue=variable,\n",
    "        s=1,\n",
    "        levels=9,\n",
    "        cmap=\"jet\",\n",
    "        aspect=2.5,\n",
    "        size=9\n",
    "    )\n",
    "    \n",
    "    plt.xlim(  0., 360.)\n",
    "    plt.ylim(-90.,  90.)\n",
    "    plt.show()"
   ]
  },
  {
   "cell_type": "markdown",
   "id": "696e3403",
   "metadata": {},
   "source": [
    "We can also plot out the entire granule file which would plot all the data of the concatenated files."
   ]
  },
  {
   "cell_type": "code",
   "execution_count": null,
   "id": "748cdb33",
   "metadata": {},
   "outputs": [],
   "source": [
    "ds.plot.scatter(\n",
    "    y=\"lat\",\n",
    "    x=\"lon\",\n",
    "    hue=variable,\n",
    "    s=1,\n",
    "    levels=9,\n",
    "    cmap=\"jet\",\n",
    "    aspect=2.5,\n",
    "    size=9\n",
    ")\n",
    "\n",
    "plt.xlim(  0., 360.)\n",
    "plt.ylim(-90.,  90.)\n",
    "plt.show()"
   ]
  },
  {
   "cell_type": "code",
   "execution_count": null,
   "id": "cce2d481",
   "metadata": {},
   "outputs": [],
   "source": []
  }
 ],
 "metadata": {
  "celltoolbar": "Tags",
  "kernelspec": {
   "display_name": "Python 3 (ipykernel)",
   "language": "python",
   "name": "python3"
  },
  "language_info": {
   "codemirror_mode": {
    "name": "ipython",
    "version": 3
   },
   "file_extension": ".py",
   "mimetype": "text/x-python",
   "name": "python",
   "nbconvert_exporter": "python",
   "pygments_lexer": "ipython3",
   "version": "3.8.10"
  }
 },
 "nbformat": 4,
 "nbformat_minor": 5
}
